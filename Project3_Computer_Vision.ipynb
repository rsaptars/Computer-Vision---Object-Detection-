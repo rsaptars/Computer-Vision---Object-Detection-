{
 "cells": [
  {
   "cell_type": "code",
   "execution_count": 1,
   "metadata": {},
   "outputs": [],
   "source": [
    "import cv2"
   ]
  },
  {
   "cell_type": "code",
   "execution_count": 2,
   "metadata": {},
   "outputs": [
    {
     "data": {
      "text/plain": [
       "-1"
      ]
     },
     "execution_count": 2,
     "metadata": {},
     "output_type": "execute_result"
    }
   ],
   "source": [
    "# Read the main original image \n",
    "large_image_orig = cv2.imread('main.png')\n",
    "\n",
    "# Read the image that needs to be detected in the main image\n",
    "small_image_detected = cv2.imread('img.png')\n",
    "\n",
    "# Image Detection\n",
    "result = cv2.matchTemplate(large_image_orig,small_image_detected, cv2.TM_CCOEFF)\n",
    "minimum_value, maximum_value, minimum_location, maximum_location = cv2.minMaxLoc(result)\n",
    "\n",
    "# Draw a rectangle around the detected image\n",
    "top_left_corner = maximum_location\n",
    "height, width, c = small_image_detected.shape\n",
    "bottom_right_corner = (top_left_corner[0] + width, top_left_corner[1] + height)\n",
    "cv2.rectangle(large_image_orig,top_left_corner, bottom_right_corner,(0,0,255),4)\n",
    "  \n",
    "# Show the Output\n",
    "cv2.imshow(\"Image to Detect\", small_image_detected)\n",
    "cv2.imshow(\"Original Image\", large_image_orig)\n",
    "\n",
    "# Draw Window on the image detected\n",
    "cv2.moveWindow(\"Original Image\", 10, 50);\n",
    "cv2.moveWindow(\"Image to Detect\", 150, 50);\n",
    "    \n",
    "cv2.waitKey(0)"
   ]
  },
  {
   "cell_type": "code",
   "execution_count": null,
   "metadata": {},
   "outputs": [],
   "source": []
  }
 ],
 "metadata": {
  "kernelspec": {
   "display_name": "Python 3",
   "language": "python",
   "name": "python3"
  },
  "language_info": {
   "codemirror_mode": {
    "name": "ipython",
    "version": 3
   },
   "file_extension": ".py",
   "mimetype": "text/x-python",
   "name": "python",
   "nbconvert_exporter": "python",
   "pygments_lexer": "ipython3",
   "version": "3.7.3"
  }
 },
 "nbformat": 4,
 "nbformat_minor": 4
}
